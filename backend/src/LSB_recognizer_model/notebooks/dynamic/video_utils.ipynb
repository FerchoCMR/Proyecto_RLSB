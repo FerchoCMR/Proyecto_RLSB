{
    "cells": [
        {
            "cell_type": "code",
            "execution_count": 4,
            "metadata": {},
            "outputs": [],
            "source": [
                "import os\n",
                "import pathlib\n",
                "import sys\n",
                "from pathlib import __file__\n",
                "\n",
                "import numpy as np\n",
                "import tensorflow as tf\n",
                "\n",
                "sys.path.insert(0, pathlib.Path().absolute().parent.parent.parent.__str__())\n",
                "sys.path.append(os.path.join(os.path.dirname(__file__), \"../../../../src\"))\n",
                "\n",
                "sys.dont_write_bytecode = True\n",
                "\n",
                "from LSB_recognizer_model.src.coordenates.utils.sign_utils import \\\n",
                "    get_only_specific_parts_and_fix_individual\n",
                "from LSB_recognizer_model.src.dinamic.utils.video_utils import (\n",
                "    change_fps_of_video, predict_video_seconds_dict, save_video_change_fps)\n",
                "from utils.holistic.holistic_detector import HolisticDetector\n"
            ]
        },
        {
            "cell_type": "code",
            "execution_count": 5,
            "metadata": {},
            "outputs": [],
            "source": [
                "video_name = \"Abandonar-Palabra-1.m4v\"\n",
                "filename = f\"../../data/raw/SignsDinamic/abandonar/{video_name}\"\n",
                "save_path = f\"../../data/processed\"\n",
                "fps_expected = 20"
            ]
        },
        {
            "cell_type": "code",
            "execution_count": 6,
            "metadata": {},
            "outputs": [],
            "source": [
                "seconds, width, height = change_fps_of_video(\n",
                "    filename = filename,\n",
                "    fps_expected = fps_expected\n",
                ")\n"
            ]
        },
        {
            "cell_type": "code",
            "execution_count": 7,
            "metadata": {},
            "outputs": [],
            "source": [
                "video_coords = predict_video_seconds_dict(\n",
                "    seconds = seconds,\n",
                "    fps = fps_expected,\n",
                "    draw_landmarks_on_video = True,\n",
                "    cv2_view_video = False,\n",
                "    used_parts = [\"pose\", \"right_hand\", \"left_hand\", \"face\"]\n",
                ")"
            ]
        },
        {
            "cell_type": "code",
            "execution_count": 8,
            "metadata": {},
            "outputs": [
                {
                    "data": {
                        "text/plain": [
                            "(58, 1630)"
                        ]
                    },
                    "execution_count": 8,
                    "metadata": {},
                    "output_type": "execute_result"
                }
            ],
            "source": [
                "np.array(video_coords).shape"
            ]
        },
        {
            "cell_type": "code",
            "execution_count": 9,
            "metadata": {},
            "outputs": [],
            "source": [
                "save_video_change_fps(\n",
                "    seconds_dict = seconds,\n",
                "    fps = fps_expected,\n",
                "    video_name = video_name,\n",
                "    save_path = save_path,\n",
                "    width = width,\n",
                "    height = height\n",
                ")"
            ]
        }
    ],
    "metadata": {
        "kernelspec": {
            "display_name": "Python 3.10.6 ('env': venv)",
            "language": "python",
            "name": "python3"
        },
        "language_info": {
            "codemirror_mode": {
                "name": "ipython",
                "version": 3
            },
            "file_extension": ".py",
            "mimetype": "text/x-python",
            "name": "python",
            "nbconvert_exporter": "python",
            "pygments_lexer": "ipython3",
            "version": "3.10.6"
        },
        "orig_nbformat": 4,
        "vscode": {
            "interpreter": {
                "hash": "efdaa978e1c80e6f6818d5869b877c39bfa0ef86a38ae4e67259df164ba443df"
            }
        }
    },
    "nbformat": 4,
    "nbformat_minor": 2
}
